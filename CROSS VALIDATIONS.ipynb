{
 "cells": [
  {
   "cell_type": "code",
   "execution_count": 1,
   "id": "d8a5d55f-5242-42a9-bcac-98abba26b5e1",
   "metadata": {},
   "outputs": [],
   "source": [
    "import pandas as pd"
   ]
  },
  {
   "cell_type": "code",
   "execution_count": 2,
   "id": "ce1df94a-d7d3-4a5a-95ea-8eeb351badbc",
   "metadata": {},
   "outputs": [],
   "source": [
    "data=pd.read_csv(\"package.csv\")"
   ]
  },
  {
   "cell_type": "code",
   "execution_count": 3,
   "id": "d4e5123b-dda2-4176-8220-681046d76146",
   "metadata": {},
   "outputs": [
    {
     "data": {
      "text/html": [
       "<div>\n",
       "<style scoped>\n",
       "    .dataframe tbody tr th:only-of-type {\n",
       "        vertical-align: middle;\n",
       "    }\n",
       "\n",
       "    .dataframe tbody tr th {\n",
       "        vertical-align: top;\n",
       "    }\n",
       "\n",
       "    .dataframe thead th {\n",
       "        text-align: right;\n",
       "    }\n",
       "</style>\n",
       "<table border=\"1\" class=\"dataframe\">\n",
       "  <thead>\n",
       "    <tr style=\"text-align: right;\">\n",
       "      <th></th>\n",
       "      <th>CGPA</th>\n",
       "      <th>Salary</th>\n",
       "    </tr>\n",
       "  </thead>\n",
       "  <tbody>\n",
       "    <tr>\n",
       "      <th>0</th>\n",
       "      <td>5.5</td>\n",
       "      <td>30</td>\n",
       "    </tr>\n",
       "    <tr>\n",
       "      <th>1</th>\n",
       "      <td>4.4</td>\n",
       "      <td>25</td>\n",
       "    </tr>\n",
       "    <tr>\n",
       "      <th>2</th>\n",
       "      <td>7.7</td>\n",
       "      <td>40</td>\n",
       "    </tr>\n",
       "    <tr>\n",
       "      <th>3</th>\n",
       "      <td>5.5</td>\n",
       "      <td>34</td>\n",
       "    </tr>\n",
       "  </tbody>\n",
       "</table>\n",
       "</div>"
      ],
      "text/plain": [
       "   CGPA  Salary\n",
       "0   5.5      30\n",
       "1   4.4      25\n",
       "2   7.7      40\n",
       "3   5.5      34"
      ]
     },
     "execution_count": 3,
     "metadata": {},
     "output_type": "execute_result"
    }
   ],
   "source": [
    "data.head(4)"
   ]
  },
  {
   "cell_type": "code",
   "execution_count": 4,
   "id": "495c42f9-51a8-4a12-9be0-60707fb47806",
   "metadata": {},
   "outputs": [],
   "source": [
    "x=data.iloc[:,:-1]\n",
    "y=data[\"Salary\"]\n"
   ]
  },
  {
   "cell_type": "code",
   "execution_count": 5,
   "id": "e6e93ebf-4454-44bc-893d-5277c7bbac0f",
   "metadata": {},
   "outputs": [],
   "source": [
    "from sklearn.model_selection import LeaveOneOut,LeavePOut,KFold,StratifiedKFold"
   ]
  },
  {
   "cell_type": "code",
   "execution_count": 6,
   "id": "feb8396c-8aae-4aa6-bd5d-0dfe1f84f5ee",
   "metadata": {},
   "outputs": [
    {
     "name": "stdout",
     "output_type": "stream",
     "text": [
      "[ 1  2  3  4  5  6  7  8  9 10 11 12] [0]\n",
      "[ 0  2  3  4  5  6  7  8  9 10 11 12] [1]\n",
      "[ 0  1  3  4  5  6  7  8  9 10 11 12] [2]\n",
      "[ 0  1  2  4  5  6  7  8  9 10 11 12] [3]\n",
      "[ 0  1  2  3  5  6  7  8  9 10 11 12] [4]\n",
      "[ 0  1  2  3  4  6  7  8  9 10 11 12] [5]\n",
      "[ 0  1  2  3  4  5  7  8  9 10 11 12] [6]\n",
      "[ 0  1  2  3  4  5  6  8  9 10 11 12] [7]\n",
      "[ 0  1  2  3  4  5  6  7  9 10 11 12] [8]\n",
      "[ 0  1  2  3  4  5  6  7  8 10 11 12] [9]\n",
      "[ 0  1  2  3  4  5  6  7  8  9 11 12] [10]\n",
      "[ 0  1  2  3  4  5  6  7  8  9 10 12] [11]\n",
      "[ 0  1  2  3  4  5  6  7  8  9 10 11] [12]\n"
     ]
    }
   ],
   "source": [
    "lo=LeaveOneOut()\n",
    "for train,test in lo.split(x,y):\n",
    "    print(train,test)"
   ]
  },
  {
   "cell_type": "code",
   "execution_count": 7,
   "id": "e2e60212-293f-41c5-aeb9-765db8e4c473",
   "metadata": {},
   "outputs": [
    {
     "name": "stdout",
     "output_type": "stream",
     "text": [
      "[ 2  3  4  5  6  7  8  9 10 11 12] [0 1]\n",
      "[ 1  3  4  5  6  7  8  9 10 11 12] [0 2]\n",
      "[ 1  2  4  5  6  7  8  9 10 11 12] [0 3]\n",
      "[ 1  2  3  5  6  7  8  9 10 11 12] [0 4]\n",
      "[ 1  2  3  4  6  7  8  9 10 11 12] [0 5]\n",
      "[ 1  2  3  4  5  7  8  9 10 11 12] [0 6]\n",
      "[ 1  2  3  4  5  6  8  9 10 11 12] [0 7]\n",
      "[ 1  2  3  4  5  6  7  9 10 11 12] [0 8]\n",
      "[ 1  2  3  4  5  6  7  8 10 11 12] [0 9]\n",
      "[ 1  2  3  4  5  6  7  8  9 11 12] [ 0 10]\n",
      "[ 1  2  3  4  5  6  7  8  9 10 12] [ 0 11]\n",
      "[ 1  2  3  4  5  6  7  8  9 10 11] [ 0 12]\n",
      "[ 0  3  4  5  6  7  8  9 10 11 12] [1 2]\n",
      "[ 0  2  4  5  6  7  8  9 10 11 12] [1 3]\n",
      "[ 0  2  3  5  6  7  8  9 10 11 12] [1 4]\n",
      "[ 0  2  3  4  6  7  8  9 10 11 12] [1 5]\n",
      "[ 0  2  3  4  5  7  8  9 10 11 12] [1 6]\n",
      "[ 0  2  3  4  5  6  8  9 10 11 12] [1 7]\n",
      "[ 0  2  3  4  5  6  7  9 10 11 12] [1 8]\n",
      "[ 0  2  3  4  5  6  7  8 10 11 12] [1 9]\n",
      "[ 0  2  3  4  5  6  7  8  9 11 12] [ 1 10]\n",
      "[ 0  2  3  4  5  6  7  8  9 10 12] [ 1 11]\n",
      "[ 0  2  3  4  5  6  7  8  9 10 11] [ 1 12]\n",
      "[ 0  1  4  5  6  7  8  9 10 11 12] [2 3]\n",
      "[ 0  1  3  5  6  7  8  9 10 11 12] [2 4]\n",
      "[ 0  1  3  4  6  7  8  9 10 11 12] [2 5]\n",
      "[ 0  1  3  4  5  7  8  9 10 11 12] [2 6]\n",
      "[ 0  1  3  4  5  6  8  9 10 11 12] [2 7]\n",
      "[ 0  1  3  4  5  6  7  9 10 11 12] [2 8]\n",
      "[ 0  1  3  4  5  6  7  8 10 11 12] [2 9]\n",
      "[ 0  1  3  4  5  6  7  8  9 11 12] [ 2 10]\n",
      "[ 0  1  3  4  5  6  7  8  9 10 12] [ 2 11]\n",
      "[ 0  1  3  4  5  6  7  8  9 10 11] [ 2 12]\n",
      "[ 0  1  2  5  6  7  8  9 10 11 12] [3 4]\n",
      "[ 0  1  2  4  6  7  8  9 10 11 12] [3 5]\n",
      "[ 0  1  2  4  5  7  8  9 10 11 12] [3 6]\n",
      "[ 0  1  2  4  5  6  8  9 10 11 12] [3 7]\n",
      "[ 0  1  2  4  5  6  7  9 10 11 12] [3 8]\n",
      "[ 0  1  2  4  5  6  7  8 10 11 12] [3 9]\n",
      "[ 0  1  2  4  5  6  7  8  9 11 12] [ 3 10]\n",
      "[ 0  1  2  4  5  6  7  8  9 10 12] [ 3 11]\n",
      "[ 0  1  2  4  5  6  7  8  9 10 11] [ 3 12]\n",
      "[ 0  1  2  3  6  7  8  9 10 11 12] [4 5]\n",
      "[ 0  1  2  3  5  7  8  9 10 11 12] [4 6]\n",
      "[ 0  1  2  3  5  6  8  9 10 11 12] [4 7]\n",
      "[ 0  1  2  3  5  6  7  9 10 11 12] [4 8]\n",
      "[ 0  1  2  3  5  6  7  8 10 11 12] [4 9]\n",
      "[ 0  1  2  3  5  6  7  8  9 11 12] [ 4 10]\n",
      "[ 0  1  2  3  5  6  7  8  9 10 12] [ 4 11]\n",
      "[ 0  1  2  3  5  6  7  8  9 10 11] [ 4 12]\n",
      "[ 0  1  2  3  4  7  8  9 10 11 12] [5 6]\n",
      "[ 0  1  2  3  4  6  8  9 10 11 12] [5 7]\n",
      "[ 0  1  2  3  4  6  7  9 10 11 12] [5 8]\n",
      "[ 0  1  2  3  4  6  7  8 10 11 12] [5 9]\n",
      "[ 0  1  2  3  4  6  7  8  9 11 12] [ 5 10]\n",
      "[ 0  1  2  3  4  6  7  8  9 10 12] [ 5 11]\n",
      "[ 0  1  2  3  4  6  7  8  9 10 11] [ 5 12]\n",
      "[ 0  1  2  3  4  5  8  9 10 11 12] [6 7]\n",
      "[ 0  1  2  3  4  5  7  9 10 11 12] [6 8]\n",
      "[ 0  1  2  3  4  5  7  8 10 11 12] [6 9]\n",
      "[ 0  1  2  3  4  5  7  8  9 11 12] [ 6 10]\n",
      "[ 0  1  2  3  4  5  7  8  9 10 12] [ 6 11]\n",
      "[ 0  1  2  3  4  5  7  8  9 10 11] [ 6 12]\n",
      "[ 0  1  2  3  4  5  6  9 10 11 12] [7 8]\n",
      "[ 0  1  2  3  4  5  6  8 10 11 12] [7 9]\n",
      "[ 0  1  2  3  4  5  6  8  9 11 12] [ 7 10]\n",
      "[ 0  1  2  3  4  5  6  8  9 10 12] [ 7 11]\n",
      "[ 0  1  2  3  4  5  6  8  9 10 11] [ 7 12]\n",
      "[ 0  1  2  3  4  5  6  7 10 11 12] [8 9]\n",
      "[ 0  1  2  3  4  5  6  7  9 11 12] [ 8 10]\n",
      "[ 0  1  2  3  4  5  6  7  9 10 12] [ 8 11]\n",
      "[ 0  1  2  3  4  5  6  7  9 10 11] [ 8 12]\n",
      "[ 0  1  2  3  4  5  6  7  8 11 12] [ 9 10]\n",
      "[ 0  1  2  3  4  5  6  7  8 10 12] [ 9 11]\n",
      "[ 0  1  2  3  4  5  6  7  8 10 11] [ 9 12]\n",
      "[ 0  1  2  3  4  5  6  7  8  9 12] [10 11]\n",
      "[ 0  1  2  3  4  5  6  7  8  9 11] [10 12]\n",
      "[ 0  1  2  3  4  5  6  7  8  9 10] [11 12]\n"
     ]
    }
   ],
   "source": [
    "lp=LeavePOut(p=2)\n",
    "for train,test in lp.split(x,y):\n",
    "    print(train,test)"
   ]
  },
  {
   "cell_type": "code",
   "execution_count": 8,
   "id": "d5ffe004-7dd4-46b9-a66f-92d50101648d",
   "metadata": {},
   "outputs": [
    {
     "name": "stdout",
     "output_type": "stream",
     "text": [
      "[ 7  8  9 10 11 12] [0 1 2 3 4 5 6]\n",
      "[0 1 2 3 4 5 6] [ 7  8  9 10 11 12]\n"
     ]
    }
   ],
   "source": [
    "kf=KFold(n_splits=2)\n",
    "for train,test in kf.split(x,y):\n",
    "    print(train,test)"
   ]
  },
  {
   "cell_type": "code",
   "execution_count": 9,
   "id": "66791d3a-0565-4948-b31b-10aa38e6e44a",
   "metadata": {},
   "outputs": [],
   "source": [
    "# ck=StratifiedKFold(n_splits=5)\n",
    "# for train,test in ck.split(x,y):\n",
    "#     print(train,test)"
   ]
  },
  {
   "cell_type": "code",
   "execution_count": null,
   "id": "eab4288d-70d9-42e5-8a40-8ee58d9d150e",
   "metadata": {},
   "outputs": [],
   "source": []
  },
  {
   "cell_type": "code",
   "execution_count": 10,
   "id": "36b58393-d3bd-47c9-bd29-c898679662cd",
   "metadata": {},
   "outputs": [],
   "source": [
    "from sklearn.linear_model import LinearRegression"
   ]
  },
  {
   "cell_type": "code",
   "execution_count": 11,
   "id": "27ac171b-32dc-430b-a1a4-10091bc5817e",
   "metadata": {},
   "outputs": [],
   "source": [
    "from sklearn.model_selection import cross_val_score\n",
    "cr=cross_val_score(LinearRegression(),x,y,cv=5)"
   ]
  },
  {
   "cell_type": "code",
   "execution_count": 12,
   "id": "e4b76233-3c48-49f0-9b85-04f964da458f",
   "metadata": {},
   "outputs": [],
   "source": [
    "cr.sort()\n",
    "cr"
   ]
  },
  {
   "cell_type": "code",
   "execution_count": 17,
   "id": "a474225e-2ad5-4472-a6a9-51b59a03a5c4",
   "metadata": {},
   "outputs": [],
   "source": [
    "cr=cross_val_score(LinearRegression(),x,y,cv=KFold(n_splits=5))"
   ]
  },
  {
   "cell_type": "code",
   "execution_count": 18,
   "id": "f2f70fcb-0dc2-45c3-8482-54bf7aff52c0",
   "metadata": {},
   "outputs": [
    {
     "data": {
      "text/plain": [
       "array([  0.14565489,   0.56283873,   0.52092548, -12.0187819 ,\n",
       "       -15.75214315])"
      ]
     },
     "execution_count": 18,
     "metadata": {},
     "output_type": "execute_result"
    }
   ],
   "source": [
    "cr"
   ]
  },
  {
   "cell_type": "code",
   "execution_count": null,
   "id": "d7219db5-5800-45a1-806a-94ab4d1a2407",
   "metadata": {},
   "outputs": [],
   "source": []
  }
 ],
 "metadata": {
  "kernelspec": {
   "display_name": "Python 3 (ipykernel)",
   "language": "python",
   "name": "python3"
  },
  "language_info": {
   "codemirror_mode": {
    "name": "ipython",
    "version": 3
   },
   "file_extension": ".py",
   "mimetype": "text/x-python",
   "name": "python",
   "nbconvert_exporter": "python",
   "pygments_lexer": "ipython3",
   "version": "3.13.0"
  }
 },
 "nbformat": 4,
 "nbformat_minor": 5
}
